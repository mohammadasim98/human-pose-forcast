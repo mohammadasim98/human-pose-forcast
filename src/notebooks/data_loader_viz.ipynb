{
 "cells": [
  {
   "cell_type": "code",
   "execution_count": 1,
   "metadata": {},
   "outputs": [],
   "source": [
    "# Change this line if you're using Colab to something like '/content/drive/MyDrive/TeamX/'\n",
    "# where TeamX is just the clone of repository on your Google Drive\n",
    "# and you have mounted the drive at /content/drive  \n",
    "# See the Tutorial Slides for more detail.\n",
    "\n",
    "# Works on your local machine but not on Colab!\n",
    "PROJECT_ROOT = '../..' \n",
    "\n",
    "# Fix this path and use this one on Colab\n",
    "# PROJECT_ROOT = '/content/drive/MyDrive/TeamX'\n",
    "\n",
    "import sys\n",
    "from os.path import join as ospj\n",
    "sys.path.append(ospj(PROJECT_ROOT, 'src'))\n",
    "\n",
    "%load_ext autoreload\n",
    "%autoreload 2"
   ]
  },
  {
   "cell_type": "code",
   "execution_count": 5,
   "metadata": {},
   "outputs": [
    {
     "name": "stdout",
     "output_type": "stream",
     "text": [
      "Length of dataset: 4648\n"
     ]
    },
    {
     "name": "stderr",
     "output_type": "stream",
     "text": [
      "c:\\Users\\Asim\\miniconda3\\lib\\site-packages\\torch\\utils\\data\\_utils\\collate.py:171: UserWarning: The given NumPy array is not writable, and PyTorch does not support non-writable tensors. This means writing to this tensor will result in undefined behavior. You may want to copy the array to protect its data or make it writable before converting it to a tensor. This type of warning will be suppressed for the rest of this program. (Triggered internally at C:\\actions-runner\\_work\\pytorch\\pytorch\\builder\\windows\\pytorch\\torch\\csrc\\utils\\tensor_numpy.cpp:212.)\n",
      "  return collate([torch.as_tensor(b) for b in batch], collate_fn_map=collate_fn_map)\n"
     ]
    }
   ],
   "source": [
    "import cv2\n",
    "import numpy as np\n",
    "\n",
    "from data.threeDPW import ThreeDPWTFRecordDataset\n",
    "from utils.transforms import cvt_absolute_pose\n",
    "from utils.viz import annotate\n",
    "\n",
    "tfrecord_path = ospj(PROJECT_ROOT,\"data\", \"3DPWPreprocessed\", \"tfrecords_combined\", \"train.tfrecord\")\n",
    "\n",
    "dataset = ThreeDPWTFRecordDataset(tfrecord_path, history_window=15, future_window=15, batch_size=1)\n",
    "print(f\"Length of dataset: {len(dataset)}\")\n",
    "\n",
    "loader = dataset.get_loader()\n",
    "\n",
    "for i, (history, future) in enumerate(loader):\n",
    "    img = history[0][0][0].numpy()\n",
    "    norm_pose = history[1][0][0].numpy()\n",
    "    root_joint = history[2][0][0].numpy()\n",
    "    mask = history[3][0].numpy()\n",
    "    abs_pose = cvt_absolute_pose(root_joint=np.expand_dims(root_joint, 0), norm_pose=np.expand_dims(norm_pose, 0))\n",
    "    annoted_img = annotate(img=img, pose=abs_pose, root_joint=np.expand_dims(root_joint, 0))\n",
    "    cv2.imshow(\"History Image\", img)\n",
    "    cv2.imshow(\"History Mask\", mask*255)\n",
    "    \n",
    "    norm_pose = future[0][0][0].numpy()\n",
    "    root_joint = future[1][0][0].numpy()\n",
    "    abs_pose = cvt_absolute_pose(root_joint=np.expand_dims(root_joint, 0), norm_pose=np.expand_dims(norm_pose, 0))\n",
    "    annoted_img = annotate(img=img, pose=abs_pose, root_joint=np.expand_dims(root_joint, 0), color=(0, 255, 0))\n",
    "    cv2.imshow(\"Future Image\", img)\n",
    "    cv2.imshow(\"Future Mask\", mask*255)\n",
    "    \n",
    "    if cv2.waitKey(25) & 0xFF == ord('q'):\n",
    "        break     \n",
    "\n",
    "cv2.destroyAllWindows()"
   ]
  },
  {
   "cell_type": "code",
   "execution_count": null,
   "metadata": {},
   "outputs": [],
   "source": []
  }
 ],
 "metadata": {
  "kernelspec": {
   "display_name": "base",
   "language": "python",
   "name": "python3"
  },
  "language_info": {
   "codemirror_mode": {
    "name": "ipython",
    "version": 3
   },
   "file_extension": ".py",
   "mimetype": "text/x-python",
   "name": "python",
   "nbconvert_exporter": "python",
   "pygments_lexer": "ipython3",
   "version": "3.9.12"
  },
  "orig_nbformat": 4
 },
 "nbformat": 4,
 "nbformat_minor": 2
}
